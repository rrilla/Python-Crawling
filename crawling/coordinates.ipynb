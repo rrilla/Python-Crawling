{
 "cells": [
  {
   "cell_type": "code",
   "execution_count": 7,
   "id": "18e882f1",
   "metadata": {},
   "outputs": [
    {
     "name": "stdout",
     "output_type": "stream",
     "text": [
      "{'response': {'service': {'name': 'address', 'version': '2.0', 'operation': 'getCoord', 'time': '35(ms)'}, 'status': 'OK', 'input': {'type': 'road', 'address': '부림로169번길 22'}, 'result': {'crs': 'EPSG:4326', 'point': {'x': '126.960877639', 'y': '37.398095842'}}}}\n"
     ]
    }
   ],
   "source": [
    "import json\n",
    "# import pandas as pd\n",
    "import requests\n",
    "# from tqdm import tqdm\n",
    "# import numpy as np\n",
    "\n",
    "# index = np.arange(5)\n",
    "\n",
    "# test_data = pd.DataFrame([{'name':'제주시청','address':'제주시 이도이동 1176-1'},\n",
    "#                   {'name':'함덕해수욕장','address':'제주시 조천읍 함덕리 1004-10'},\n",
    "#                   {'name':'협재해수욕장','address':'제주시 한림읍 협재리 2497-1'},\n",
    "#                   {'name':'쇠소깍','address':'서귀포시 남원읍 하례리 995-1'},\n",
    "#                   {'name':'성산일출봉','address':'서귀포시 성산읍 성산리 1'}],index=index)\n",
    "\n",
    "url = 'http://api.vworld.kr/req/address?'\n",
    "# params = 'service=address&request=getcoord&version=2.0&crs=epsg:4326&refine=false&simple=false&format=json&type='\n",
    "# road_type = 'ROAD'\n",
    "# address = '&address='\n",
    "# keys = '&key='\n",
    "# primary_key = '4A1CF381-0E54-33E4-AC30-0357FFAE3951'\n",
    "param1 = 'service=address'\n",
    "param2 = 'request=getCoord'\n",
    "param3 = 'key=4A1CF381-0E54-33E4-AC30-0357FFAE3951'\n",
    "param4 = 'type=road'\n",
    "param5 = 'refine=false'\n",
    "param6 = 'address=부림로169번길 22'\n",
    "\n",
    "def request_geo(road):\n",
    "    link = 'http://api.vworld.kr/req/address?{0}&{1}&{2}&{3}&{4}&{5}'.format(param1,param2,param3,param4,param5,param6)\n",
    "    page = requests.get(link)\n",
    "    json_data = page.json()\n",
    "    \n",
    "    status = json_data['response']['status']\n",
    "    x = json_data['response']['result']['point']['x']\n",
    "    y = json_data['response']['result']['point']['y']\n",
    "    print('status :')\n",
    "    \n",
    "\n",
    "# def extraction_geo(test_data):\n",
    "#     geocode = pd.DataFrame(columns = ['name','address', 'x', 'y'])\n",
    "#     none = None\n",
    "#     for idx, road in tqdm(zip(test_data.index ,test_data['address'])):\n",
    "#         name = str(test_data['name'][idx])\n",
    "#         if len(str(road)) <= 5:\n",
    "#             geocode = geocode.append(\n",
    "#                     pd.DataFrame({'name':name,\n",
    "#                     'address':road,\n",
    "#                     'x':none,\n",
    "#                     'y':none},\n",
    "#                     index=[idx]))\n",
    "#             continue\n",
    "\n",
    "#         json_data = request_geo(road)\n",
    "\n",
    "#         if json_data['response']['status'] == 'NOT_FOUND' or json_data['response']['status'] == 'ERROR':\n",
    "#             geocode = geocode.append(\n",
    "#                     pd.DataFrame({'name':name,\n",
    "#                     'address':road,\n",
    "#                     'x':none,\n",
    "#                     'y':none},\n",
    "#                     index=[idx]))\n",
    "#             continue\n",
    "\n",
    "#         x = json_data['response']['result']['point']['x']\n",
    "#         y = json_data['response']['result']['point']['y']\n",
    "\n",
    "#         geocode = geocode.append(\n",
    "#             pd.DataFrame({'name':name,\n",
    "#                     'address':road,\n",
    "#                     'x':float(x),\n",
    "#                     'y':float(y)},\n",
    "#                     index=[idx]))\n",
    "#     return geocode\n",
    "\n",
    "# result = extraction_geo(test_data)\n",
    "print(request_geo('부림로 169번길22'))"
   ]
  }
 ],
 "metadata": {
  "kernelspec": {
   "display_name": "Python 3 (ipykernel)",
   "language": "python",
   "name": "python3"
  },
  "language_info": {
   "codemirror_mode": {
    "name": "ipython",
    "version": 3
   },
   "file_extension": ".py",
   "mimetype": "text/x-python",
   "name": "python",
   "nbconvert_exporter": "python",
   "pygments_lexer": "ipython3",
   "version": "3.9.6"
  }
 },
 "nbformat": 4,
 "nbformat_minor": 5
}
